{
 "cells": [
  {
   "cell_type": "code",
   "execution_count": 1,
   "metadata": {
    "ExecuteTime": {
     "end_time": "2018-10-18T13:29:08.602610Z",
     "start_time": "2018-10-18T13:28:23.869281Z"
    }
   },
   "outputs": [],
   "source": [
    "import pandas as pd\n",
    "import numpy as np\n",
    "import matplotlib.pyplot as plt\n",
    "import datetime as dt\n",
    "\n",
    "from tslearn.clustering import TimeSeriesKMeans\n",
    "from tslearn.datasets import CachedDatasets\n",
    "from tslearn.preprocessing import TimeSeriesScalerMeanVariance, TimeSeriesResampler"
   ]
  },
  {
   "cell_type": "code",
   "execution_count": null,
   "metadata": {
    "scrolled": true
   },
   "outputs": [],
   "source": []
  },
  {
   "cell_type": "code",
   "execution_count": 2,
   "metadata": {
    "ExecuteTime": {
     "end_time": "2018-10-18T13:29:09.287235Z",
     "start_time": "2018-10-18T13:29:08.602610Z"
    }
   },
   "outputs": [],
   "source": [
    "#Leitura do dataset\n",
    "\n",
    "#data_file=\"Arnas/arnas_pre-processed-ts_01-03-2017_31-08-2017\"\n",
    "data_file=\"arnas_pre-processed-ts_01-03-2017_01-04-2017\"\n",
    "#data_file=\"Emil/emil\"\n",
    "\n",
    "df=pd.read_csv(filepath_or_buffer=data_file+\".csv\")\n",
    "df=df.dropna(axis=0)\n",
    "X = df.iloc[:,1:].values"
   ]
  },
  {
   "cell_type": "code",
   "execution_count": 3,
   "metadata": {
    "ExecuteTime": {
     "end_time": "2018-10-18T13:29:09.302835Z",
     "start_time": "2018-10-18T13:29:09.287235Z"
    }
   },
   "outputs": [],
   "source": [
    "'''seed = 0\n",
    "numpy.random.seed(seed)\n",
    "\"\"\"X_train, y_train, X_test, y_test = CachedDatasets().load_dataset(\"Trace\")\n",
    "X_train = X_train[y_train < 4]  # Keep first 3 classes\"\"\"\n",
    "numpy.random.shuffle(X_train)\n",
    "X_train = TimeSeriesScalerMeanVariance().fit_transform(X_train[:10000])  # Keep only 50 time series\n",
    "#X_train = TimeSeriesResampler(sz=40).fit_transform(X_train)  # Make time series shorter\n",
    "sz = X_train.shape[1]\n",
    "\n",
    "# Euclidean k-means\n",
    "print(\"Euclidean k-means\")\n",
    "km = TimeSeriesKMeans(n_clusters=3, verbose=True, random_state=seed)\n",
    "y_pred = km.fit_predict(X_train)\n",
    "\n",
    "plt.figure()\n",
    "for yi in range(3):\n",
    "    plt.subplot(3, 3, yi + 1)\n",
    "    for xx in X_train[y_pred == yi]:\n",
    "        plt.plot(xx.ravel(), \"k-\", alpha=.2)\n",
    "    plt.plot(km.cluster_centers_[yi].ravel(), \"r-\")\n",
    "    plt.xlim(0, sz)\n",
    "    plt.ylim(-4, 4)\n",
    "    if yi == 1:\n",
    "        plt.title(\"Euclidean $k$-means\")\n",
    "\n",
    "# DBA-k-means\n",
    "print(\"DBA k-means\")\n",
    "dba_km = TimeSeriesKMeans(n_clusters=3, n_init=2, metric=\"dtw\", verbose=True, max_iter_barycenter=10, random_state=seed)\n",
    "y_pred = dba_km.fit_predict(X_train)\n",
    "\n",
    "for yi in range(3):\n",
    "    plt.subplot(3, 3, 4 + yi)\n",
    "    for xx in X_train[y_pred == yi]:\n",
    "        plt.plot(xx.ravel(), \"k-\", alpha=.2)\n",
    "    plt.plot(dba_km.cluster_centers_[yi].ravel(), \"r-\")\n",
    "    plt.xlim(0, sz)\n",
    "    plt.ylim(-4, 4)\n",
    "    if yi == 1:\n",
    "        plt.title(\"DBA $k$-means\")\n",
    "\n",
    "# Soft-DTW-k-means\n",
    "print(\"Soft-DTW k-means\")\n",
    "sdtw_km = TimeSeriesKMeans(n_clusters=3, metric=\"softdtw\", metric_params={\"gamma_sdtw\": .01},\n",
    "                           verbose=True, random_state=seed)\n",
    "y_pred = sdtw_km.fit_predict(X_train)\n",
    "\n",
    "for yi in range(3):\n",
    "    plt.subplot(3, 3, 7 + yi)\n",
    "    for xx in X_train[y_pred == yi]:\n",
    "        plt.plot(xx.ravel(), \"k-\", alpha=.2)\n",
    "    plt.plot(sdtw_km.cluster_centers_[yi].ravel(), \"r-\")\n",
    "    plt.xlim(0, sz)\n",
    "    plt.ylim(-4, 4)\n",
    "    if yi == 1:\n",
    "        plt.title(\"Soft-DTW $k$-means\")\n",
    "\n",
    "plt.tight_layout()\n",
    "plt.show()''';"
   ]
  },
  {
   "cell_type": "code",
   "execution_count": 4,
   "metadata": {
    "ExecuteTime": {
     "end_time": "2018-10-18T16:00:51.150923Z",
     "start_time": "2018-10-18T13:29:09.302835Z"
    },
    "scrolled": true
   },
   "outputs": [
    {
     "name": "stdout",
     "output_type": "stream",
     "text": [
      "697170.490 --> 205602.908 --> 201554.473 --> 201336.710 --> 202299.005 --> 203518.107 --> 204150.916 --> 204230.720 --> 204186.410 --> 204122.650 --> 204132.727 --> 204129.221 --> 204129.348 --> 204129.163 --> 204129.179 --> 204129.171 --> 204129.171 --> \n",
      "281813.611 --> 120157.024 --> 102068.918 --> 98728.292 --> 98266.778 --> 98305.362 --> 98276.144 --> 98311.364 --> 98402.597 --> 98484.213 --> 98561.502 --> 98595.023 --> 98594.289 --> 98594.452 --> 98594.427 --> 98594.433 --> 98594.432 --> 98594.432 --> 98594.432 --> \n",
      "143637.377 --> 73799.282 --> 71326.433 --> 70573.132 --> 70292.938 --> 70097.815 --> 70033.841 --> 70060.552 --> 70049.914 --> 70047.270 --> 70046.988 --> 70047.062 --> 70047.062 --> \n",
      "122948.218 --> 68625.723 --> 66425.206 --> 66087.507 --> 65588.504 --> 65421.992 --> 65389.111 --> 65404.346 --> 65424.568 --> 65423.313 --> 65423.352 --> 65423.323 --> 65423.324 --> 65423.324 --> 65423.324 --> \n",
      "107835.060 --> 58711.960 --> 48854.424 --> 46684.506 --> 45757.640 --> 45432.341 --> 45065.931 --> 44953.646 --> 44918.213 --> 44877.604 --> 44836.165 --> 44764.568 --> 44707.313 --> 44617.662 --> 44457.974 --> 44239.447 --> 44029.051 --> 43854.084 --> 43780.397 --> 43567.416 --> 43417.604 --> 43344.741 --> 43267.175 --> 43234.616 --> 43210.045 --> 43211.364 --> 43211.523 --> 43211.525 --> 43211.525 --> \n",
      "88541.765 --> 35462.646 --> 33460.358 --> 33442.235 --> 33591.801 --> 33666.639 --> 33696.429 --> 33700.880 --> 33701.051 --> 33697.871 --> 33697.428 --> 33697.432 --> 33697.432 --> 33697.432 --> \n",
      "57585.816 --> 38451.620 --> 34744.836 --> 32171.600 --> 29661.721 --> 28375.784 --> 27811.191 --> 27752.577 --> 27710.439 --> 27694.887 --> 27686.803 --> 27669.439 --> 27677.577 --> 27674.402 --> 27673.191 --> 27674.290 --> 27673.812 --> 27673.541 --> 27673.551 --> 27673.551 --> 27673.551 --> \n",
      "41969.630 --> 24365.773 --> 22746.472 --> 22428.938 --> 22323.360 --> 22243.983 --> 22190.145 --> 22144.213 --> 22131.637 --> 22132.596 --> 22129.189 --> 22123.088 --> 22120.472 --> 22119.057 --> 22118.352 --> 22114.913 --> 22111.635 --> 22111.298 --> 22111.013 --> 22111.013 --> \n",
      "31604.139 --> 20088.827 --> 19367.721 --> 19096.727 --> 19003.916 --> 18923.872 --> 18676.370 --> 18585.480 --> 18452.633 --> 18244.359 --> 17859.765 --> 17403.951 --> 16665.690 --> 16004.188 --> 15603.661 --> 15315.076 --> 15211.620 --> 15163.188 --> 15124.296 --> 15113.488 --> 15109.283 --> 15109.171 --> 15109.180 --> 15109.180 --> 15109.180 --> \n",
      "26087.820 --> 13739.217 --> 12423.731 --> 11862.590 --> 11576.656 --> 11422.160 --> 11302.268 --> 11217.290 --> 11195.685 --> 11190.536 --> 11181.381 --> 11175.626 --> 11174.850 --> 11168.777 --> 11161.610 --> 11156.805 --> 11152.605 --> 11151.141 --> 11149.570 --> 11140.588 --> 11127.261 --> 11122.584 --> 11121.725 --> 11123.687 --> 11123.566 --> 11123.569 --> 11123.570 --> 11123.570 --> \n",
      "23529.000 --> 13123.377 --> 11818.392 --> 11267.377 --> 10997.202 --> 10819.046 --> 10724.356 --> 10673.831 --> 10661.852 --> 10656.508 --> 10653.492 --> 10652.533 --> 10652.648 --> 10647.702 --> 10641.260 --> 10640.396 --> 10638.196 --> 10637.069 --> 10635.783 --> 10626.802 --> 10613.475 --> 10608.798 --> 10607.939 --> 10609.901 --> 10609.780 --> 10609.783 --> 10609.783 --> 10609.783 --> \n",
      "21300.579 --> 11310.178 --> 9978.120 --> 9382.521 --> 9108.341 --> 8948.394 --> 8861.494 --> 8807.108 --> 8798.572 --> 8799.946 --> 8793.724 --> 8785.134 --> 8782.730 --> 8780.862 --> 8779.909 --> 8778.441 --> 8770.751 --> 8767.483 --> 8765.232 --> 8757.410 --> 8739.558 --> 8730.423 --> 8724.821 --> 8720.005 --> 8713.675 --> 8708.704 --> 8705.063 --> 8704.059 --> 8703.839 --> 8703.797 --> 8703.766 --> 8703.766 --> 8703.766 --> \n",
      "17266.751 --> 8743.649 --> 8130.382 --> 7712.885 --> 7598.597 --> 7503.530 --> 7444.477 --> 7401.842 --> 7394.063 --> 7393.674 --> 7393.785 --> 7393.785 --> 7393.784 --> 7393.784 --> \n",
      "16228.511 --> 8249.459 --> 7813.328 --> 7423.045 --> 7301.577 --> 7209.774 --> 7149.236 --> 7106.610 --> 7097.273 --> 7095.576 --> 7095.797 --> 7095.032 --> 7094.072 --> 7094.209 --> 7093.640 --> 7093.998 --> 7093.994 --> 7093.994 --> 7093.994 --> \n",
      "11696.833 --> 6888.318 --> 6486.052 --> 6433.343 --> 6400.761 --> 6330.945 --> 6302.663 --> 6287.119 --> 6291.087 --> 6291.310 --> 6291.298 --> 6291.298 --> \n",
      "11119.783 --> 6142.730 --> 5720.574 --> 5656.665 --> 5607.227 --> 5543.600 --> 5517.794 --> 5503.988 --> 5509.191 --> 5508.919 --> 5508.133 --> 5507.893 --> 5507.893 --> \n",
      "9629.022 --> 5465.218 --> 5016.069 --> 4939.019 --> 4879.424 --> 4810.252 --> 4773.865 --> 4750.242 --> 4748.637 --> 4747.458 --> 4747.467 --> 4747.193 --> 4747.193 --> \n",
      "9235.978 --> 5297.481 --> 4863.825 --> 4789.748 --> 4733.963 --> 4666.999 --> 4630.474 --> 4606.360 --> 4604.462 --> 4603.283 --> 4603.292 --> 4603.291 --> 4603.291 --> \n",
      "8993.467 --> 5242.751 --> 4794.147 --> 4655.807 --> 4604.718 --> 4584.925 --> 4573.095 --> 4563.278 --> 4560.594 --> 4559.202 --> 4559.428 --> 4559.905 --> 4560.411 --> 4560.917 --> 4561.185 --> 4561.185 --> \n",
      "9595.592 --> 4779.249 --> 4072.825 --> 3852.584 --> 3790.839 --> 3753.171 --> 3736.364 --> 3711.118 --> 3690.484 --> 3678.112 --> 3666.570 --> 3663.445 --> 3661.681 --> 3661.720 --> 3661.719 --> 3661.719 --> \n",
      "8713.150 --> 4108.776 --> 3640.253 --> 3497.323 --> 3405.008 --> 3363.339 --> 3328.500 --> 3259.029 --> 3221.031 --> 3197.549 --> 3189.279 --> 3188.200 --> 3186.143 --> 3185.273 --> 3185.272 --> 3185.272 --> 3185.272 --> \n",
      "8151.439 --> 3828.577 --> 3370.770 --> 3232.366 --> 3140.397 --> 3097.352 --> 3061.700 --> 3002.688 --> 2955.937 --> 2932.391 --> 2924.177 --> 2922.272 --> 2920.209 --> 2919.337 --> 2919.336 --> 2919.335 --> 2919.335 --> \n",
      "7510.861 --> 3593.138 --> 3163.524 --> 3035.812 --> 2949.313 --> 2909.684 --> 2877.078 --> 2822.333 --> 2783.073 --> 2761.194 --> 2752.476 --> 2751.542 --> 2748.868 --> 2748.118 --> 2748.117 --> 2748.117 --> \n",
      "Duração:2:31:41.510271\n"
     ]
    }
   ],
   "source": [
    "seed = 0\n",
    "np.random.seed(seed)\n",
    "np.random.shuffle(X)\n",
    "#X = TimeSeriesScalerMeanVariance().fit_transform(X)\n",
    "\n",
    "time_init=dt.datetime.now()\n",
    "Ks = range(2,25)\n",
    "ts_km = [TimeSeriesKMeans(n_clusters=k,metric=\"softdtw\",metric_params={\"gamma_sdtw\": .01}, verbose=True, random_state=seed, tol=1e-4) for k in Ks]\n",
    "scores = [ts_km[i].fit(X).inertia_ for i in range(len(ts_km))]\n",
    "time_end=dt.datetime.now()-time_init\n",
    "print(\"Duração:\"+str(time_end))"
   ]
  },
  {
   "cell_type": "code",
   "execution_count": 5,
   "metadata": {
    "ExecuteTime": {
     "end_time": "2018-10-18T16:00:51.186524Z",
     "start_time": "2018-10-18T16:00:51.150923Z"
    }
   },
   "outputs": [],
   "source": [
    "m=(scores[0]-scores[-1])/(Ks[0]-Ks[-1])\n",
    "y=[scores[0] + m * (x - Ks[0]) for x in Ks]"
   ]
  },
  {
   "cell_type": "code",
   "execution_count": 6,
   "metadata": {
    "ExecuteTime": {
     "end_time": "2018-10-18T16:00:52.011951Z",
     "start_time": "2018-10-18T16:00:51.191525Z"
    }
   },
   "outputs": [
    {
     "data": {
      "image/png": "[encoded data removed]",
      "text/plain": [
       "<Figure size 432x288 with 1 Axes>"
      ]
     },
     "metadata": {},
     "output_type": "display_data"
    }
   ],
   "source": [
    "plt.plot(Ks, scores, label='WCSS')\n",
    "plt.plot(Ks, y, label='Reference Line')\n",
    "plt.title('Elbow Method')\n",
    "plt.xlabel('Nº of Clusters')\n",
    "plt.ylabel('WCSS')\n",
    "plt.legend()\n",
    "plt.grid()"
   ]
  },
  {
   "cell_type": "code",
   "execution_count": 7,
   "metadata": {
    "ExecuteTime": {
     "end_time": "2018-10-18T16:00:52.028551Z",
     "start_time": "2018-10-18T16:00:52.011951Z"
    }
   },
   "outputs": [],
   "source": [
    "from numpy import arccos, array, dot, pi, cross\n",
    "from numpy.linalg import det, norm\n",
    "\n",
    "# from: https://gist.github.com/nim65s/5e9902cd67f094ce65b0\n",
    "def distance_numpy(A, B, P):\n",
    "    \"\"\" segment line AB, point P, where each one is an array([x, y]) \"\"\"\n",
    "    if all(A == P) or all(B == P):\n",
    "        return 0\n",
    "    if arccos(dot((P - A) / norm(P - A), (B - A) / norm(B - A))) > pi / 2:\n",
    "        return norm(P - A)\n",
    "    if arccos(dot((P - B) / norm(P - B), (A - B) / norm(A - B))) > pi / 2:\n",
    "        return norm(P - B)\n",
    "    return norm(cross(A-B, A-P))/norm(B-A)"
   ]
  },
  {
   "cell_type": "code",
   "execution_count": 8,
   "metadata": {
    "ExecuteTime": {
     "end_time": "2018-10-18T16:00:52.177560Z",
     "start_time": "2018-10-18T16:00:52.032551Z"
    }
   },
   "outputs": [],
   "source": [
    "distances = []\n",
    "A=np.array([Ks[0], y[0]])\n",
    "B=np.array([Ks[-1], y[-1]])\n",
    "\n",
    "for k in Ks:\n",
    "    ind = Ks.index(k)\n",
    "    P=np.array([k, scores[ind]])\n",
    "    distances.append(distance_numpy(A,B,P))\n",
    "    \n",
    "k_opt = distances.index(max(distances))+2"
   ]
  },
  {
   "cell_type": "code",
   "execution_count": 9,
   "metadata": {
    "ExecuteTime": {
     "end_time": "2018-10-18T16:04:11.232185Z",
     "start_time": "2018-10-18T16:00:52.182560Z"
    }
   },
   "outputs": [
    {
     "name": "stdout",
     "output_type": "stream",
     "text": [
      "Soft-DTW k-means\n",
      "88541.765 --> 35462.646 --> 33460.358 --> 33442.235 --> 33591.801 --> 33666.639 --> 33696.429 --> 33700.880 --> 33701.051 --> 33697.871 --> 33697.428 --> 33697.432 --> 33697.432 --> 33697.432 --> \n"
     ]
    }
   ],
   "source": [
    "print(\"Soft-DTW k-means\")\n",
    "sdtw_km = TimeSeriesKMeans(n_clusters=k_opt, metric=\"softdtw\", metric_params={\"gamma_sdtw\": .01},\n",
    "                           verbose=True, random_state=seed)\n",
    "KMeansLabels = sdtw_km.fit_predict(X)"
   ]
  },
  {
   "cell_type": "code",
   "execution_count": 10,
   "metadata": {
    "ExecuteTime": {
     "end_time": "2018-10-18T16:04:30.174847Z",
     "start_time": "2018-10-18T16:04:11.232185Z"
    }
   },
   "outputs": [
    {
     "ename": "IndexError",
     "evalue": "list index out of range",
     "output_type": "error",
     "traceback": [
      "\u001b[1;31m---------------------------------------------------------------------------\u001b[0m",
      "\u001b[1;31mIndexError\u001b[0m                                Traceback (most recent call last)",
      "\u001b[1;32m<ipython-input-10-1179c22c814b>\u001b[0m in \u001b[0;36m<module>\u001b[1;34m()\u001b[0m\n\u001b[0;32m      7\u001b[0m     \u001b[0mbar_height\u001b[0m\u001b[1;33m=\u001b[0m\u001b[0mlen\u001b[0m\u001b[1;33m(\u001b[0m\u001b[0mnth_class\u001b[0m\u001b[1;33m)\u001b[0m\u001b[1;33m\u001b[0m\u001b[0m\n\u001b[0;32m      8\u001b[0m     \u001b[0mind\u001b[0m\u001b[1;33m=\u001b[0m\u001b[0mclusters\u001b[0m\u001b[1;33m.\u001b[0m\u001b[0mindex\u001b[0m\u001b[1;33m(\u001b[0m\u001b[0mcluster\u001b[0m\u001b[1;33m)\u001b[0m\u001b[1;33m\u001b[0m\u001b[0m\n\u001b[1;32m----> 9\u001b[1;33m     \u001b[0mpattern\u001b[0m \u001b[1;33m=\u001b[0m \u001b[1;32mNone\u001b[0m \u001b[1;32mif\u001b[0m \u001b[0mind\u001b[0m \u001b[1;33m<\u001b[0m \u001b[1;36m3\u001b[0m \u001b[1;32melse\u001b[0m \u001b[0mpatterns\u001b[0m\u001b[1;33m[\u001b[0m\u001b[0mind\u001b[0m\u001b[1;33m-\u001b[0m\u001b[1;36m3\u001b[0m\u001b[1;33m]\u001b[0m\u001b[1;33m\u001b[0m\u001b[0m\n\u001b[0m\u001b[0;32m     10\u001b[0m     \u001b[0mplt\u001b[0m\u001b[1;33m.\u001b[0m\u001b[0mbar\u001b[0m\u001b[1;33m(\u001b[0m\u001b[0mnth_class\u001b[0m\u001b[1;33m,\u001b[0m \u001b[0mheight\u001b[0m\u001b[1;33m=\u001b[0m\u001b[0mbar_height\u001b[0m\u001b[1;33m,\u001b[0m \u001b[0mlabel\u001b[0m\u001b[1;33m=\u001b[0m\u001b[1;34m\"Cluster \"\u001b[0m\u001b[1;33m+\u001b[0m\u001b[0mstr\u001b[0m\u001b[1;33m(\u001b[0m\u001b[0mcluster\u001b[0m\u001b[1;33m)\u001b[0m\u001b[1;33m,\u001b[0m \u001b[0mcolor\u001b[0m\u001b[1;33m=\u001b[0m\u001b[0mgreys\u001b[0m\u001b[1;33m[\u001b[0m\u001b[0mind\u001b[0m\u001b[1;33m]\u001b[0m\u001b[1;33m,\u001b[0m \u001b[0mhatch\u001b[0m\u001b[1;33m=\u001b[0m\u001b[0mpattern\u001b[0m\u001b[1;33m)\u001b[0m\u001b[1;33m\u001b[0m\u001b[0m\n\u001b[0;32m     11\u001b[0m \u001b[1;33m\u001b[0m\u001b[0m\n",
      "\u001b[1;31mIndexError\u001b[0m: list index out of range"
     ]
    },
    {
     "data": {
      "image/png": "[encoded data removed]",
      "text/plain": [
       "<Figure size 432x288 with 1 Axes>"
      ]
     },
     "metadata": {},
     "output_type": "display_data"
    }
   ],
   "source": [
    "clusters = list(np.unique(KMeansLabels))\n",
    "greys = 2*['#e5e5e5', '#9f9f9f', '#424242']\n",
    "patterns = ['/', '//', 'x']\n",
    "\n",
    "for cluster in clusters:\n",
    "    nth_class = [label for label in KMeansLabels if label == cluster]\n",
    "    bar_height=len(nth_class)\n",
    "    ind=clusters.index(cluster)\n",
    "    pattern = None if ind < 3 else patterns[ind-3]\n",
    "    plt.bar(nth_class, height=bar_height, label=\"Cluster \"+str(cluster), color=greys[ind], hatch=pattern)\n",
    "\n",
    "plt.title(\"Distribuição dos Clusters por Classe\\n\",fontsize=20)\n",
    "plt.xlabel(\"Classe\")\n",
    "plt.ylabel(\"Quantidade de Cluster\")\n",
    "plt.legend(loc='upper left', bbox_to_anchor=(1,1), ncol=1, fontsize=12)\n",
    "plt.show()"
   ]
  },
  {
   "cell_type": "code",
   "execution_count": null,
   "metadata": {
    "ExecuteTime": {
     "end_time": "2018-10-18T16:04:30.174847Z",
     "start_time": "2018-10-18T13:28:47.775Z"
    }
   },
   "outputs": [],
   "source": [
    "[(sdtw_km.cluster_centers_[i]) for i in range(len((sdtw_km.cluster_centers_)))]"
   ]
  },
  {
   "cell_type": "code",
   "execution_count": null,
   "metadata": {
    "ExecuteTime": {
     "end_time": "2018-10-18T16:04:30.174847Z",
     "start_time": "2018-10-18T13:28:49.449Z"
    }
   },
   "outputs": [],
   "source": [
    "centroids=[[sdtw_km.cluster_centers_[i][j][0] for j in range(len(sdtw_km.cluster_centers_[i]))] for i in range(len(sdtw_km.cluster_centers_))]\n",
    "centroids_df=pd.DataFrame(list(map(list, zip(*centroids))),columns=['Cluster '+str(i) for i in range(len(sdtw_km.cluster_centers_))])\n",
    "centroids_df.index=df.iloc[:,1:].columns"
   ]
  },
  {
   "cell_type": "code",
   "execution_count": null,
   "metadata": {
    "ExecuteTime": {
     "end_time": "2018-10-18T16:04:30.174847Z",
     "start_time": "2018-10-18T13:28:51.261Z"
    }
   },
   "outputs": [],
   "source": [
    "print(centroids_df)"
   ]
  },
  {
   "cell_type": "code",
   "execution_count": null,
   "metadata": {
    "ExecuteTime": {
     "end_time": "2018-10-18T16:04:30.174847Z",
     "start_time": "2018-10-18T13:28:53.169Z"
    }
   },
   "outputs": [],
   "source": [
    "centroids_df.to_csv('Centroids - Arnas_01-03-2017_31-08-2017.csv')"
   ]
  },
  {
   "cell_type": "code",
   "execution_count": null,
   "metadata": {},
   "outputs": [],
   "source": []
  }
 ],
 "metadata": {
  "kernelspec": {
   "display_name": "Python 3",
   "language": "python",
   "name": "python3"
  },
  "language_info": {
   "codemirror_mode": {
    "name": "ipython",
    "version": 3
   },
   "file_extension": ".py",
   "mimetype": "text/x-python",
   "name": "python",
   "nbconvert_exporter": "python",
   "pygments_lexer": "ipython3",
   "version": "3.6.5"
  }
 },
 "nbformat": 4,
 "nbformat_minor": 2
}
