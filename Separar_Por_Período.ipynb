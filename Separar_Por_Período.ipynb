{
 "cells": [
  {
   "cell_type": "code",
   "execution_count": 14,
   "metadata": {
    "ExecuteTime": {
     "end_time": "2018-11-13T16:56:25.072133Z",
     "start_time": "2018-11-13T16:56:25.066131Z"
    }
   },
   "outputs": [],
   "source": [
    "import pandas as pd\n",
    "import numpy as np\n",
    "import matplotlib.pyplot as plt\n",
    "from datetime import datetime as dt\n",
    "from datetime import timedelta"
   ]
  },
  {
   "cell_type": "code",
   "execution_count": null,
   "metadata": {},
   "outputs": [],
   "source": []
  },
  {
   "cell_type": "code",
   "execution_count": 15,
   "metadata": {
    "ExecuteTime": {
     "end_time": "2018-11-13T16:56:25.762335Z",
     "start_time": "2018-11-13T16:56:25.729325Z"
    }
   },
   "outputs": [],
   "source": [
    "data_folder='Arnia'\n",
    "dataset='beehive_9841_pre-processed-ts'\n",
    "data_file=data_folder+'/'+dataset+'.csv'\n",
    "\n",
    "def to_datetime(timestamp):\n",
    "    return dt.strptime(timestamp, '%Y-%m-%d %H:%M:%S')\n",
    "\n",
    "dataframe = pd.read_csv(data_file)\n",
    "\n",
    "dates=dataframe['Timestamp'].apply(to_datetime)\n",
    "df=dataframe.set_index(dates)"
   ]
  },
  {
   "cell_type": "code",
   "execution_count": 16,
   "metadata": {
    "ExecuteTime": {
     "end_time": "2018-11-13T16:56:25.954393Z",
     "start_time": "2018-11-13T16:56:25.945390Z"
    }
   },
   "outputs": [],
   "source": [
    "def to_dtdate(timestamp):\n",
    "    if len(timestamp) == 10:\n",
    "        #return (dt.strptime(timestamp.split(' ')[0], '%Y-%m-%d'))\n",
    "        return (dt.strptime(timestamp, '%d-%m-%Y'))\n",
    "    else:\n",
    "        return (dt.strptime(timestamp, '%Y-%m-%d %H:%M:%S'))\n",
    "    \n",
    "def isBissexto(ano):\n",
    "    if ano%4==0 and ano%100!=0 or ano%400==0:\n",
    "        return True\n",
    "    else:\n",
    "        return False"
   ]
  },
  {
   "cell_type": "code",
   "execution_count": 17,
   "metadata": {
    "ExecuteTime": {
     "end_time": "2018-11-13T16:56:26.501555Z",
     "start_time": "2018-11-13T16:56:26.161455Z"
    }
   },
   "outputs": [],
   "source": [
    "##ano/mes/dia\n",
    "begin_list=['2017-09-20 00:00:00','2017-09-01 00:00:00']\n",
    "end_list=['2017-10-05 23:59:59','2018-02-28 23:59:59']\n",
    "list_to_df=list(map(list, zip(*[begin_list,end_list])))\n",
    "df_split=pd.DataFrame(list_to_df,columns=['begin','end'])\n",
    "ind=0\n",
    "\n",
    "begin=to_dtdate(df_split['begin'][ind])\n",
    "end=to_dtdate(df_split['end'][ind])\n",
    "\n",
    "begin_date=begin.strftime(\"%d-%m-%Y\")\n",
    "final_date=end.strftime(\"%d-%m-%Y\")\n",
    "\n",
    "'''interval = 366 if isBissexto(begin.year) else 365\n",
    "final_date=begin+timedelta(days=interval)\n",
    "final_date=final_date.strftime(\"%d-%m-%Y\")''';"
   ]
  },
  {
   "cell_type": "code",
   "execution_count": 18,
   "metadata": {
    "ExecuteTime": {
     "end_time": "2018-11-13T16:56:26.643598Z",
     "start_time": "2018-11-13T16:56:26.501555Z"
    }
   },
   "outputs": [],
   "source": [
    "#Splits\n",
    "date_split=(df.index>=df_split['begin'].apply(to_datetime)[ind]) & (df.index<df_split['end'].apply(to_datetime)[ind])\n",
    "zero_split=1\n",
    "columns=[df[column]>0 for column in df.columns if column !='Timestamp']\n",
    "for column in columns:\n",
    "    zero_split=zero_split&column\n",
    "    \n",
    "len_df=len(df[date_split & zero_split])\n",
    "range_index=list(range(len_df))\n",
    "index=pd.DataFrame(range_index,columns=['index'])\n",
    "to_save_df=df[date_split & zero_split].set_index(index['index'])\n",
    "\n",
    "#save_name=data_file.split('.')[0]+'_period'+str(ind+1)+'.'+data_file.split('.')[1]\n",
    "save_name=data_file.split('.')[0]+'_'+begin_date+'_'+final_date+'.'+data_file.split('.')[1]\n",
    "\n",
    "to_save_df.to_csv(save_name,index=False)"
   ]
  },
  {
   "cell_type": "code",
   "execution_count": 19,
   "metadata": {
    "ExecuteTime": {
     "end_time": "2018-11-13T16:56:26.773637Z",
     "start_time": "2018-11-13T16:56:26.658602Z"
    }
   },
   "outputs": [],
   "source": [
    "'''date_split=(df.index>=df_split['begin'].apply(to_datetime)[ind]) & (df.index<df_split['end'].apply(to_datetime)[ind])\n",
    "len_df=len(df[date_split & zero_split])\n",
    "range_index=list(range(len_df))\n",
    "index=pd.DataFrame(range_index,columns=['index'])\n",
    "to_save_df=df[date_split & zero_split].set_index(index['index'])\n",
    "save_name=data_file.split('.')[0]+'_'+begin_date+'_'+final_date+'.'+data_file.split('.')[1]\n",
    "to_save_df.to_csv(save_name,index=False)''';"
   ]
  },
  {
   "cell_type": "code",
   "execution_count": null,
   "metadata": {},
   "outputs": [],
   "source": []
  },
  {
   "cell_type": "code",
   "execution_count": null,
   "metadata": {},
   "outputs": [],
   "source": []
  },
  {
   "cell_type": "code",
   "execution_count": null,
   "metadata": {},
   "outputs": [],
   "source": []
  }
 ],
 "metadata": {
  "kernelspec": {
   "display_name": "Python 3",
   "language": "python",
   "name": "python3"
  },
  "language_info": {
   "codemirror_mode": {
    "name": "ipython",
    "version": 3
   },
   "file_extension": ".py",
   "mimetype": "text/x-python",
   "name": "python",
   "nbconvert_exporter": "python",
   "pygments_lexer": "ipython3",
   "version": "3.6.5"
  }
 },
 "nbformat": 4,
 "nbformat_minor": 2
}
