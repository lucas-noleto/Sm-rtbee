{
 "cells": [
  {
   "cell_type": "code",
   "execution_count": 1,
   "metadata": {
    "ExecuteTime": {
     "end_time": "2018-10-19T14:52:34.630457Z",
     "start_time": "2018-10-19T14:52:34.069425Z"
    }
   },
   "outputs": [],
   "source": [
    "import pandas as pd\n",
    "import datetime"
   ]
  },
  {
   "cell_type": "code",
   "execution_count": 2,
   "metadata": {
    "ExecuteTime": {
     "end_time": "2018-10-19T14:52:36.098541Z",
     "start_time": "2018-10-19T14:52:35.841526Z"
    }
   },
   "outputs": [],
   "source": [
    "#Colunas a serem lidas do dataset\n",
    "\n",
    "date_col=\"date\"\n",
    "weight_col=\"hive_weight\"\n",
    "temp_col=\"hive_temperature\"\n",
    "humidity_col=\"hive_humidity\"\n",
    "amb_temp_col=\"ambient_temperature\"\n",
    "amb_humi_col=\"ambient_humidity\"\n",
    "cols_to_read=[date_col,weight_col, temp_col, humidity_col, amb_temp_col, amb_humi_col]\n",
    "\n",
    "data_file=\"Arnas/arnas\"\n",
    "#data_file=\"Emil/emil\"\n",
    "\n",
    "df=pd.read_csv(filepath_or_buffer=data_file+\".csv\", usecols=cols_to_read)"
   ]
  },
  {
   "cell_type": "code",
   "execution_count": 3,
   "metadata": {
    "ExecuteTime": {
     "end_time": "2018-10-19T14:52:37.844640Z",
     "start_time": "2018-10-19T14:52:37.826639Z"
    }
   },
   "outputs": [],
   "source": [
    "#Funções que fazem a conversão da data\n",
    "\n",
    "def date_to_nth_day(date, format='%Y-%m-%d %H:%M:%S'):\n",
    "    date = datetime.datetime.strptime(date, format)\n",
    "    new_year_day = pd.Timestamp(year=date.year, month=1, day=1)\n",
    "    return (date - new_year_day).days + 1\n",
    "\n",
    "def date_to_nth_week(date, format='%Y-%m-%d %H:%M:%S'):\n",
    "    date = datetime.datetime.strptime(date, format)\n",
    "    return (date.isocalendar()[1])\n",
    "\n",
    "def date_to_weekday(date, format='%Y-%m-%d %H:%M:%S'):\n",
    "    date = datetime.datetime.strptime(date, format)\n",
    "    return (date.isocalendar()[2])"
   ]
  },
  {
   "cell_type": "code",
   "execution_count": 4,
   "metadata": {
    "ExecuteTime": {
     "end_time": "2018-10-19T14:52:50.607370Z",
     "start_time": "2018-10-19T14:52:39.744749Z"
    }
   },
   "outputs": [],
   "source": [
    "#Colunas a serem adicionadas\n",
    "\n",
    "day_year_col=[]\n",
    "week_year_col=[]\n",
    "day_week_col=[]\n",
    "\n",
    "for date in df.date:\n",
    "    day_of_the_year = date_to_nth_day(date, format='%Y-%m-%d %H:%M:%S')\n",
    "    day_year_col.append(day_of_the_year)\n",
    "    week_of_the_year = date_to_nth_week(date, format='%Y-%m-%d %H:%M:%S')\n",
    "    week_year_col.append(week_of_the_year)\n",
    "    weekday = date_to_weekday(date, format='%Y-%m-%d %H:%M:%S')\n",
    "    day_week_col.append(weekday)"
   ]
  },
  {
   "cell_type": "code",
   "execution_count": 5,
   "metadata": {
    "ExecuteTime": {
     "end_time": "2018-10-19T14:52:52.965505Z",
     "start_time": "2018-10-19T14:52:52.849499Z"
    }
   },
   "outputs": [],
   "source": [
    "#Adicionando as colunas ao dataset\n",
    "df=df.assign(day_of_the_year=day_year_col,week_of_the_year=week_year_col,day_of_the_week=day_week_col)"
   ]
  },
  {
   "cell_type": "code",
   "execution_count": 6,
   "metadata": {
    "ExecuteTime": {
     "end_time": "2018-10-19T14:52:54.976620Z",
     "start_time": "2018-10-19T14:52:54.617600Z"
    }
   },
   "outputs": [
    {
     "ename": "PermissionError",
     "evalue": "[Errno 13] Permission denied: 'Arnas/arnas_pre-processed-ts.csv'",
     "output_type": "error",
     "traceback": [
      "\u001b[1;31m---------------------------------------------------------------------------\u001b[0m",
      "\u001b[1;31mPermissionError\u001b[0m                           Traceback (most recent call last)",
      "\u001b[1;32m<ipython-input-6-a8a7a7d55c7f>\u001b[0m in \u001b[0;36m<module>\u001b[1;34m()\u001b[0m\n\u001b[0;32m      1\u001b[0m \u001b[1;31m#Salvando o dataset\u001b[0m\u001b[1;33m\u001b[0m\u001b[1;33m\u001b[0m\u001b[0m\n\u001b[1;32m----> 2\u001b[1;33m \u001b[0mdf\u001b[0m\u001b[1;33m.\u001b[0m\u001b[0mto_csv\u001b[0m\u001b[1;33m(\u001b[0m\u001b[0mdata_file\u001b[0m\u001b[1;33m+\u001b[0m\u001b[1;34m'_pre-processed-ts.csv'\u001b[0m\u001b[1;33m,\u001b[0m \u001b[0mindex\u001b[0m \u001b[1;33m=\u001b[0m \u001b[1;32mFalse\u001b[0m\u001b[1;33m)\u001b[0m\u001b[1;33m\u001b[0m\u001b[0m\n\u001b[0m",
      "\u001b[1;32m~\\AppData\\Local\\Continuum\\anaconda3\\lib\\site-packages\\pandas\\core\\frame.py\u001b[0m in \u001b[0;36mto_csv\u001b[1;34m(self, path_or_buf, sep, na_rep, float_format, columns, header, index, index_label, mode, encoding, compression, quoting, quotechar, line_terminator, chunksize, tupleize_cols, date_format, doublequote, escapechar, decimal)\u001b[0m\n\u001b[0;32m   1743\u001b[0m                                  \u001b[0mdoublequote\u001b[0m\u001b[1;33m=\u001b[0m\u001b[0mdoublequote\u001b[0m\u001b[1;33m,\u001b[0m\u001b[1;33m\u001b[0m\u001b[0m\n\u001b[0;32m   1744\u001b[0m                                  escapechar=escapechar, decimal=decimal)\n\u001b[1;32m-> 1745\u001b[1;33m         \u001b[0mformatter\u001b[0m\u001b[1;33m.\u001b[0m\u001b[0msave\u001b[0m\u001b[1;33m(\u001b[0m\u001b[1;33m)\u001b[0m\u001b[1;33m\u001b[0m\u001b[0m\n\u001b[0m\u001b[0;32m   1746\u001b[0m \u001b[1;33m\u001b[0m\u001b[0m\n\u001b[0;32m   1747\u001b[0m         \u001b[1;32mif\u001b[0m \u001b[0mpath_or_buf\u001b[0m \u001b[1;32mis\u001b[0m \u001b[1;32mNone\u001b[0m\u001b[1;33m:\u001b[0m\u001b[1;33m\u001b[0m\u001b[0m\n",
      "\u001b[1;32m~\\AppData\\Local\\Continuum\\anaconda3\\lib\\site-packages\\pandas\\io\\formats\\csvs.py\u001b[0m in \u001b[0;36msave\u001b[1;34m(self)\u001b[0m\n\u001b[0;32m    134\u001b[0m             f, handles = _get_handle(self.path_or_buf, self.mode,\n\u001b[0;32m    135\u001b[0m                                      \u001b[0mencoding\u001b[0m\u001b[1;33m=\u001b[0m\u001b[0mencoding\u001b[0m\u001b[1;33m,\u001b[0m\u001b[1;33m\u001b[0m\u001b[0m\n\u001b[1;32m--> 136\u001b[1;33m                                      compression=None)\n\u001b[0m\u001b[0;32m    137\u001b[0m             \u001b[0mclose\u001b[0m \u001b[1;33m=\u001b[0m \u001b[1;32mTrue\u001b[0m \u001b[1;32mif\u001b[0m \u001b[0mself\u001b[0m\u001b[1;33m.\u001b[0m\u001b[0mcompression\u001b[0m \u001b[1;32mis\u001b[0m \u001b[1;32mNone\u001b[0m \u001b[1;32melse\u001b[0m \u001b[1;32mFalse\u001b[0m\u001b[1;33m\u001b[0m\u001b[0m\n\u001b[0;32m    138\u001b[0m \u001b[1;33m\u001b[0m\u001b[0m\n",
      "\u001b[1;32m~\\AppData\\Local\\Continuum\\anaconda3\\lib\\site-packages\\pandas\\io\\common.py\u001b[0m in \u001b[0;36m_get_handle\u001b[1;34m(path_or_buf, mode, encoding, compression, memory_map, is_text)\u001b[0m\n\u001b[0;32m    398\u001b[0m         \u001b[1;32melif\u001b[0m \u001b[0mencoding\u001b[0m\u001b[1;33m:\u001b[0m\u001b[1;33m\u001b[0m\u001b[0m\n\u001b[0;32m    399\u001b[0m             \u001b[1;31m# Python 3 and encoding\u001b[0m\u001b[1;33m\u001b[0m\u001b[1;33m\u001b[0m\u001b[0m\n\u001b[1;32m--> 400\u001b[1;33m             \u001b[0mf\u001b[0m \u001b[1;33m=\u001b[0m \u001b[0mopen\u001b[0m\u001b[1;33m(\u001b[0m\u001b[0mpath_or_buf\u001b[0m\u001b[1;33m,\u001b[0m \u001b[0mmode\u001b[0m\u001b[1;33m,\u001b[0m \u001b[0mencoding\u001b[0m\u001b[1;33m=\u001b[0m\u001b[0mencoding\u001b[0m\u001b[1;33m)\u001b[0m\u001b[1;33m\u001b[0m\u001b[0m\n\u001b[0m\u001b[0;32m    401\u001b[0m         \u001b[1;32melif\u001b[0m \u001b[0mis_text\u001b[0m\u001b[1;33m:\u001b[0m\u001b[1;33m\u001b[0m\u001b[0m\n\u001b[0;32m    402\u001b[0m             \u001b[1;31m# Python 3 and no explicit encoding\u001b[0m\u001b[1;33m\u001b[0m\u001b[1;33m\u001b[0m\u001b[0m\n",
      "\u001b[1;31mPermissionError\u001b[0m: [Errno 13] Permission denied: 'Arnas/arnas_pre-processed-ts.csv'"
     ]
    }
   ],
   "source": [
    "#Salvando o dataset\n",
    "df.to_csv(data_file+'_pre-processed-ts.csv', index = False)"
   ]
  },
  {
   "cell_type": "code",
   "execution_count": 7,
   "metadata": {
    "ExecuteTime": {
     "end_time": "2018-10-16T18:13:50.022007Z",
     "start_time": "2018-10-16T18:13:50.005006Z"
    }
   },
   "outputs": [],
   "source": [
    "def DTWDistance(s1,s2,w=None):\n",
    "        '''\n",
    "        Calculates dynamic time warping Euclidean distance between two\n",
    "        sequences. Option to enforce locality constraint for window w.\n",
    "        '''\n",
    "        DTW={}\n",
    "        \n",
    "        if w:\n",
    "            w = max(w, abs(len(s1)-len(s2)))\n",
    "    \n",
    "            for i in range(-1,len(s1)):\n",
    "                for j in range(-1,len(s2)):\n",
    "                    DTW[(i, j)] = float('inf')\n",
    "            \n",
    "        else:\n",
    "            for i in range(len(s1)):\n",
    "                DTW[(i, -1)] = float('inf')\n",
    "            for i in range(len(s2)):\n",
    "                DTW[(-1, i)] = float('inf')\n",
    "        \n",
    "        DTW[(-1, -1)] = 0\n",
    "        \n",
    "        for i in range(len(s1)):\n",
    "            if w:\n",
    "                for j in range(max(0, i-w), min(len(s2), i+w)):\n",
    "                    dist= (s1[i]-s2[j])**2\n",
    "                    DTW[(i, j)] = dist + min(DTW[(i-1, j)],DTW[(i, j-1)], DTW[(i-1, j-1)])\n",
    "            else:\n",
    "                for j in range(len(s2)):\n",
    "                    dist= (s1[i]-s2[j])**2\n",
    "                    DTW[(i, j)] = dist + min(DTW[(i-1, j)],DTW[(i, j-1)], DTW[(i-1, j-1)])\n",
    "            \n",
    "        return (DTW[len(s1)-1, len(s2)-1]) "
   ]
  },
  {
   "cell_type": "code",
   "execution_count": null,
   "metadata": {},
   "outputs": [],
   "source": []
  },
  {
   "cell_type": "code",
   "execution_count": null,
   "metadata": {},
   "outputs": [],
   "source": []
  }
 ],
 "metadata": {
  "kernelspec": {
   "display_name": "Python 3",
   "language": "python",
   "name": "python3"
  },
  "language_info": {
   "codemirror_mode": {
    "name": "ipython",
    "version": 3
   },
   "file_extension": ".py",
   "mimetype": "text/x-python",
   "name": "python",
   "nbconvert_exporter": "python",
   "pygments_lexer": "ipython3",
   "version": "3.6.5"
  }
 },
 "nbformat": 4,
 "nbformat_minor": 2
}
